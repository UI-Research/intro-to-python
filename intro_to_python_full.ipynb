{
 "cells": [
  {
   "cell_type": "markdown",
   "metadata": {},
   "source": [
    "### Why Python?\n",
    "   * Gateway to learn many skills\n",
    "   * Shallow learning curve \n",
    "       * Simple syntax\n",
    "       * Extensive documentation\n",
    "       * Lots of internet resources\n",
    "   * Free and open source\n",
    "   * Interacts with various platforms\n",
    "       * Database API - connecting to MySQL, Oracle, etc.\n",
    "       * Boto3 library - interacting with Amazon Web Services\n",
    "   * Variety of Useful Libraries for Data Analysis and Data Science\n",
    "       * NumPy and Pandas - core libraries for data analysis\n",
    "       * StanfordNLP - natural language analysis\n",
    "       * BeautifulSoup - web scraping\n",
    "       * Requests - HTTP requests\n",
    "       \n",
    "### What can you do with Python?\n",
    "   * Automation of Repetetive Tasks\n",
    "       * Download Lodes data from Census \n",
    "   * Natural Language Processing \n",
    "       * Classify land use reform articles by topic\n",
    "   * Web Scraping\n",
    "       * Scrape DC Court Website for regulation data\n",
    "\n",
    "### Running Python\n",
    "   * Python Version 3 is recommended\n",
    "       * Improved standard library modules, security fixes, bug fixes\n",
    "   * Ways to install on your machine:\n",
    "       1. Install Python from [source](https://www.python.org/downloads/)\n",
    "       2. Install Anaconda from [Anaconda site](https://www.anaconda.com/distribution/) (Reccomended) \n",
    "           * Anaconda is a Data Science platform, and comes with\n",
    "               * Python language and necessary libraries pre-installed\n",
    "               * Package manager Conda \n",
    "               * Graphical Interface Anaconda Navigator \n",
    "               * IDEs including Jupyter and Spyder"
   ]
  },
  {
   "cell_type": "markdown",
   "metadata": {},
   "source": [
    "## Intro To Python Demo\n",
    "\n",
    "Jupyter notebook allows you to create documents that contain code, markdown text, and visualizations \n",
    "\n",
    "\n",
    "### How to run Jupyter Notebook on a temporary server without installation\n",
    "\n",
    "* Visit the link https://jupyter.org/try\n",
    "* Select `Try Classic Notebook`. This might take a few minutes to load. \n",
    "* In the File tab, select `New Notebook` -> `Python 3`"
   ]
  },
  {
   "cell_type": "markdown",
   "metadata": {},
   "source": [
    "### Assigning values to variables\n",
    "`=` is used to assign values to variables\n",
    "\n",
    "A variable name on the lefthand side of the operator is assigned a value on the righthand side. \n",
    "\n",
    "(To print the value of an object, use the `print()` function)"
   ]
  },
  {
   "cell_type": "code",
   "execution_count": 1,
   "metadata": {},
   "outputs": [
    {
     "name": "stdout",
     "output_type": "stream",
     "text": [
      "2\n"
     ]
    }
   ],
   "source": [
    "a = 2\n",
    "print(a)"
   ]
  },
  {
   "cell_type": "markdown",
   "metadata": {},
   "source": [
    "### Comparators\n",
    "Comparator operators are used to compare objects. \n",
    "\n",
    "`==` is a comparator, and is different from the assignment operator `=`.\n",
    "\n",
    "`==` will return a True or False boolean value, depending on whether the two values are equivalent. "
   ]
  },
  {
   "cell_type": "code",
   "execution_count": 2,
   "metadata": {},
   "outputs": [
    {
     "data": {
      "text/plain": [
       "True"
      ]
     },
     "execution_count": 2,
     "metadata": {},
     "output_type": "execute_result"
    }
   ],
   "source": [
    "b = 2\n",
    "\n",
    "a == b"
   ]
  },
  {
   "cell_type": "markdown",
   "metadata": {},
   "source": [
    "Other comparators include `!=`, `>`, `<`, `>=`, and `<=`. Comparators will always return a boolean `True` or `False`."
   ]
  },
  {
   "cell_type": "markdown",
   "metadata": {},
   "source": [
    "### Data Types\n",
    "\n",
    "Variables can store different types of data.\n",
    "\n",
    "To determine the type of an object, use the `type()` function.\n",
    "\n",
    "We will discuss 4 important variable types."
   ]
  },
  {
   "cell_type": "markdown",
   "metadata": {},
   "source": [
    "#### bool - True or False boolean value"
   ]
  },
  {
   "cell_type": "code",
   "execution_count": 3,
   "metadata": {},
   "outputs": [
    {
     "data": {
      "text/plain": [
       "bool"
      ]
     },
     "execution_count": 3,
     "metadata": {},
     "output_type": "execute_result"
    }
   ],
   "source": [
    "x = True\n",
    "type(x)"
   ]
  },
  {
   "cell_type": "markdown",
   "metadata": {},
   "source": [
    "There are three main logical operators that can be applied to bool values:\n",
    "\n",
    "* `x and y` : True if x and y are True, else False <br />\n",
    "* `x or y` : True if either x or y is true, else False <br />\n",
    "* `not x:` Negates value of x <br />"
   ]
  },
  {
   "cell_type": "code",
   "execution_count": 4,
   "metadata": {},
   "outputs": [],
   "source": [
    "x = True\n",
    "y = False"
   ]
  },
  {
   "cell_type": "code",
   "execution_count": 5,
   "metadata": {},
   "outputs": [
    {
     "data": {
      "text/plain": [
       "False"
      ]
     },
     "execution_count": 5,
     "metadata": {},
     "output_type": "execute_result"
    }
   ],
   "source": [
    "x and y"
   ]
  },
  {
   "cell_type": "code",
   "execution_count": 6,
   "metadata": {
    "scrolled": true
   },
   "outputs": [
    {
     "data": {
      "text/plain": [
       "True"
      ]
     },
     "execution_count": 6,
     "metadata": {},
     "output_type": "execute_result"
    }
   ],
   "source": [
    "x or y"
   ]
  },
  {
   "cell_type": "code",
   "execution_count": 7,
   "metadata": {},
   "outputs": [
    {
     "data": {
      "text/plain": [
       "False"
      ]
     },
     "execution_count": 7,
     "metadata": {},
     "output_type": "execute_result"
    }
   ],
   "source": [
    "not x"
   ]
  },
  {
   "cell_type": "markdown",
   "metadata": {},
   "source": [
    "#### int - Integer numbers"
   ]
  },
  {
   "cell_type": "code",
   "execution_count": 8,
   "metadata": {},
   "outputs": [
    {
     "data": {
      "text/plain": [
       "int"
      ]
     },
     "execution_count": 8,
     "metadata": {},
     "output_type": "execute_result"
    }
   ],
   "source": [
    "a = 5\n",
    "type(a)"
   ]
  },
  {
   "cell_type": "markdown",
   "metadata": {},
   "source": [
    "#### float - Decimal numbers"
   ]
  },
  {
   "cell_type": "code",
   "execution_count": 9,
   "metadata": {},
   "outputs": [
    {
     "data": {
      "text/plain": [
       "float"
      ]
     },
     "execution_count": 9,
     "metadata": {},
     "output_type": "execute_result"
    }
   ],
   "source": [
    "b = 1.0\n",
    "type(b)"
   ]
  },
  {
   "cell_type": "markdown",
   "metadata": {},
   "source": [
    "#### string - Text data"
   ]
  },
  {
   "cell_type": "code",
   "execution_count": 10,
   "metadata": {},
   "outputs": [
    {
     "data": {
      "text/plain": [
       "str"
      ]
     },
     "execution_count": 10,
     "metadata": {},
     "output_type": "execute_result"
    }
   ],
   "source": [
    "c = \"hello world\"\n",
    "type(c)"
   ]
  },
  {
   "cell_type": "markdown",
   "metadata": {},
   "source": [
    "#### String Manipulation\n",
    "\n",
    "Strings can be concatenated with the `+` operator."
   ]
  },
  {
   "cell_type": "code",
   "execution_count": 11,
   "metadata": {},
   "outputs": [
    {
     "data": {
      "text/plain": [
       "'I love Python'"
      ]
     },
     "execution_count": 11,
     "metadata": {},
     "output_type": "execute_result"
    }
   ],
   "source": [
    "str_1 = \"I love\"\n",
    "str_2 = \"Python\"\n",
    "str_1 + \" \" + str_2"
   ]
  },
  {
   "cell_type": "markdown",
   "metadata": {},
   "source": [
    "Values in strings can be substituted using the format function"
   ]
  },
  {
   "cell_type": "code",
   "execution_count": 12,
   "metadata": {},
   "outputs": [
    {
     "name": "stdout",
     "output_type": "stream",
     "text": [
      "I love The Urban Institute and Python.\n"
     ]
    }
   ],
   "source": [
    "print(\"I love {} and {}.\".format(\"The Urban Institute\", \"Python\"))"
   ]
  },
  {
   "cell_type": "markdown",
   "metadata": {},
   "source": [
    "### Data Structures\n",
    "\n",
    "Data structures are ways of organizing data."
   ]
  },
  {
   "cell_type": "markdown",
   "metadata": {},
   "source": [
    "#### List \n",
    "\n",
    "Lists are one of the most common ways to hold a sequence of values in Python. Lists are created as a comma separated sequence of values between square brackets."
   ]
  },
  {
   "cell_type": "code",
   "execution_count": 13,
   "metadata": {},
   "outputs": [
    {
     "data": {
      "text/plain": [
       "'Michelle'"
      ]
     },
     "execution_count": 13,
     "metadata": {},
     "output_type": "execute_result"
    }
   ],
   "source": [
    "names = [\"Michelle\", \"Vivian\", \"Kyle\", \"Aplhonse\", \"Alena\"]\n",
    "names[0]"
   ]
  },
  {
   "cell_type": "markdown",
   "metadata": {},
   "source": [
    "Using the negation operator `-` will transverse the list in reverse."
   ]
  },
  {
   "cell_type": "code",
   "execution_count": 14,
   "metadata": {},
   "outputs": [
    {
     "data": {
      "text/plain": [
       "'Alena'"
      ]
     },
     "execution_count": 14,
     "metadata": {},
     "output_type": "execute_result"
    }
   ],
   "source": [
    "names[-1]"
   ]
  },
  {
   "cell_type": "markdown",
   "metadata": {},
   "source": [
    "We can use `:` to slice a list based upon a [start, end] index. The end index is not included in the returned list"
   ]
  },
  {
   "cell_type": "code",
   "execution_count": 15,
   "metadata": {},
   "outputs": [
    {
     "data": {
      "text/plain": [
       "['Vivian', 'Kyle', 'Aplhonse']"
      ]
     },
     "execution_count": 15,
     "metadata": {},
     "output_type": "execute_result"
    }
   ],
   "source": [
    "names[1:4]"
   ]
  },
  {
   "cell_type": "markdown",
   "metadata": {},
   "source": [
    "#### Dictionary\n",
    "\n",
    "Dictionaries are a store of key-value pairs. They can be created with curly braces, with keys and values separated by a colon. \n",
    "\n",
    "The key is placed on the lefthand side of the colon while the value is placed on the righthand side. "
   ]
  },
  {
   "cell_type": "code",
   "execution_count": null,
   "metadata": {},
   "outputs": [],
   "source": [
    "birth_year = {\"Jenny\" : 1990, \"Cindy\" : 1977, \"Bob\" : 2001}"
   ]
  },
  {
   "cell_type": "code",
   "execution_count": null,
   "metadata": {},
   "outputs": [
    {
     "data": {
      "text/plain": [
       "1977"
      ]
     },
     "execution_count": 17,
     "metadata": {},
     "output_type": "execute_result"
    }
   ],
   "source": [
    "birth_year[\"Cindy\"]"
   ]
  },
  {
   "cell_type": "markdown",
   "metadata": {},
   "source": [
    "### Control flow\n",
    "\n",
    "The if, elif (i.e., else-if) and else statements are used to control the execution of code based upon a condition. The if statement checks the condition given, and executes the code if it evaluates to True.\n",
    "\n",
    "Note: In Python, blocks of code are indicated by tabs. To ensure that your code is evaluated within the `if` statement, make sure that the code is tab indented one level more than the `if`."
   ]
  },
  {
   "cell_type": "code",
   "execution_count": null,
   "metadata": {},
   "outputs": [
    {
     "name": "stdout",
     "output_type": "stream",
     "text": [
      "y is greater than 10\n"
     ]
    }
   ],
   "source": [
    "y = 11\n",
    "if y <= 10:\n",
    "    print(\"y is less or equal to 10\")\n",
    "else:\n",
    "    print(\"y is greater than 10\")"
   ]
  },
  {
   "cell_type": "markdown",
   "metadata": {},
   "source": [
    "If, you want to evaulate multiple conditions, your `if` statement can be followed by one or more `elif` statements. Once a True statement is reached, the execution of the if/elif/else block stops."
   ]
  },
  {
   "cell_type": "code",
   "execution_count": null,
   "metadata": {},
   "outputs": [
    {
     "name": "stdout",
     "output_type": "stream",
     "text": [
      "z is less than 25\n"
     ]
    }
   ],
   "source": [
    "z = 20\n",
    "if z < 10:\n",
    "    print(\"z is less than 10\")\n",
    "elif z < 15:\n",
    "    print(\"z is less than 15\")\n",
    "elif z < 25:\n",
    "    print(\"z is less than 25\")\n",
    "else:\n",
    "    print(\"z is greater than or equal to 25\")"
   ]
  },
  {
   "cell_type": "markdown",
   "metadata": {},
   "source": [
    "### Loops\n",
    "\n",
    "In Python, loops are used to repeatedly run lines of code.\n",
    "\n",
    "#### For Loops\n",
    "\n",
    "The `for` statement allows you to iterate over, and do something with, each item in a sequence. For a simple example, iterate over a list of numbers, and print the squares."
   ]
  },
  {
   "cell_type": "code",
   "execution_count": null,
   "metadata": {},
   "outputs": [
    {
     "name": "stdout",
     "output_type": "stream",
     "text": [
      "1\n",
      "4\n",
      "9\n",
      "16\n",
      "25\n"
     ]
    }
   ],
   "source": [
    "a = [1, 2, 3, 4, 5]\n",
    "\n",
    "for number in a:\n",
    "    print(number**2)"
   ]
  },
  {
   "cell_type": "markdown",
   "metadata": {},
   "source": [
    "#### While Loops\n",
    "A while loop will iterate until a condition is met. Be careful, as it can be easy to write a while loop with a condition that is never met, leaving your code running indefinitely in an infinite loop."
   ]
  },
  {
   "cell_type": "code",
   "execution_count": null,
   "metadata": {
    "scrolled": true
   },
   "outputs": [
    {
     "name": "stdout",
     "output_type": "stream",
     "text": [
      "0\n",
      "1\n",
      "2\n",
      "3\n",
      "4\n"
     ]
    }
   ],
   "source": [
    "b = 0\n",
    "while b < 5:\n",
    "    print(b)\n",
    "    b += 1"
   ]
  },
  {
   "cell_type": "markdown",
   "metadata": {},
   "source": [
    "### List Comprehension\n",
    "\n",
    "A list comprehension is used to create a list based on an existing list"
   ]
  },
  {
   "cell_type": "code",
   "execution_count": null,
   "metadata": {},
   "outputs": [
    {
     "data": {
      "text/plain": [
       "[1, 4, 9, 16, 25]"
      ]
     },
     "execution_count": 22,
     "metadata": {},
     "output_type": "execute_result"
    }
   ],
   "source": [
    "a = [1, 2, 3, 4, 5]\n",
    "\n",
    "a_squared = [number**2 for number in a]\n",
    "\n",
    "a_squared"
   ]
  },
  {
   "cell_type": "markdown",
   "metadata": {},
   "source": [
    "# Pandas\n",
    "\n",
    "#### Pandas (Python Data Analysis Library) is the most popular python library that is used for data manipulation and analysis. \n",
    "\n",
    "- highly optimized performance: back-end source code purely written in C or Python\n",
    "- Compatiable with lots of data file formats (CSV, Excel, STATA files)\n",
    "- Creates a Python object named data frame with rows and columns that looks very similar to table in a statistical software\n",
    "- Data frame is much easier to work with compared to lists/dictionaries through for loops or list comprehension\n",
    "- Open source \n",
    "\n",
    "#### Three ways to create a new pandas dataframe \n",
    "\n",
    "- Convert a Python’s list, dictionary or Numpy array to a Pandas data frame\n",
    "- Open a local file using Pandas (e.g., CSV, Excel, STATA, json) \n",
    "- Open a remote file or database through an URL."
   ]
  },
  {
   "cell_type": "markdown",
   "metadata": {},
   "source": [
    "## Practice\n",
    "\n",
    "#### Lode data "
   ]
  },
  {
   "cell_type": "code",
   "execution_count": null,
   "metadata": {},
   "outputs": [],
   "source": [
    "#import pandas \n",
    "import pandas as pd\n",
    "\n",
    "#Load data from a CSV file \n",
    "dat = pd.read_csv(\"https://ui-spark-data-public.s3.amazonaws.com/lodes/summarized-files/Tract_level/fed_jobs/rac_all_fed_tract_level.csv\")"
   ]
  },
  {
   "cell_type": "code",
   "execution_count": null,
   "metadata": {
    "scrolled": true
   },
   "outputs": [],
   "source": [
    "dat.iloc[0:10]"
   ]
  },
  {
   "cell_type": "markdown",
   "metadata": {},
   "source": [
    "### Inspect Dataframe"
   ]
  },
  {
   "cell_type": "code",
   "execution_count": null,
   "metadata": {
    "scrolled": true
   },
   "outputs": [],
   "source": [
    "#Basic info of the dataframe \n",
    "dat.shape\n",
    "\n",
    "print('Number of rows:', dat.shape[0])\n",
    "print('Number of columns:', dat.shape[1])\n",
    "\n",
    "#len(dat)     #number of rows \n",
    "#dat.count()  #the number of non-NA values for each column "
   ]
  },
  {
   "cell_type": "code",
   "execution_count": null,
   "metadata": {
    "scrolled": true
   },
   "outputs": [],
   "source": [
    "#Column names\n",
    "dat.columns"
   ]
  },
  {
   "cell_type": "code",
   "execution_count": null,
   "metadata": {},
   "outputs": [],
   "source": [
    "# Detailed info for each column\n",
    "dat.info()"
   ]
  },
  {
   "attachments": {
    "image.png": {
     "image/png": "[encoded data removed]"
    }
   },
   "cell_type": "markdown",
   "metadata": {},
   "source": [
    "### Subset Dataframe: \"locate\" method \n",
    "\n",
    "DataFrame.loc\n",
    "- Label-based: Access a group of rows and columns by label(s) or a boolean array.\n",
    "\n",
    "DataFrame.iloc\n",
    "- Integer-based: Access a group of rows and columns by integer position(s).\n",
    "\n",
    "![image.png](attachment:image.png)\n",
    "\n",
    "\n",
    "##### Order of the indexes/labels inside the brackets obviously matters! \n",
    "\n",
    "dat.loc[0, 'year']\n",
    "\n",
    "- Seperated by comma\n",
    "- The first index/label(before comma): row(s) that we want to retrieve.\n",
    "- The second index/label(after comma): column(s) we want to retrieve. Optional, without a second index, iloc/loc will retrieve all columns by default.\n",
    "- Retrieve all rows but selected columns: use Colon(:) before comma to represent all columns, e.g. dat.loc[:, ['year', 'c000']]\n",
    "\n",
    "\n",
    "Most common inputs in the bracket []:\n",
    "- A single label/index, e.g., 'year' \n",
    "- A list of labels/indexes, e.g. ['year', 'stname', 'ctyname'] or [0, 5, 9]\n",
    "- A slice object with labels/indexes, e.g. 'year':'c000', 0:9"
   ]
  },
  {
   "cell_type": "code",
   "execution_count": null,
   "metadata": {
    "scrolled": true
   },
   "outputs": [],
   "source": [
    "#A single label for row and column\n",
    "dat.iloc[0]   #return a series "
   ]
  },
  {
   "cell_type": "code",
   "execution_count": null,
   "metadata": {},
   "outputs": [],
   "source": [
    "#A list of labels/indexes\n",
    "dat.iloc[[0, 3, 7]]"
   ]
  },
  {
   "cell_type": "code",
   "execution_count": null,
   "metadata": {},
   "outputs": [],
   "source": [
    "#A slice object with labels/indexes\n",
    "dat.iloc[0:5]"
   ]
  },
  {
   "cell_type": "code",
   "execution_count": null,
   "metadata": {},
   "outputs": [],
   "source": [
    "#A list of labels for rows and columns\n",
    "dat.loc[0:6, ['year', 'stname', 'trctname', 'c000']]   \n",
    "\n",
    "# note that 0:6 is interpreted as a label of the index, but not as an integer position along the index)"
   ]
  },
  {
   "cell_type": "code",
   "execution_count": null,
   "metadata": {
    "scrolled": true
   },
   "outputs": [],
   "source": [
    "# .loc[] can access a group of rows and columns by a boolean array - conditionally subset the dataframe \n",
    "va_dat = dat.loc[dat['stname'] == 'Virginia', ['year', 'stname', 'ctyname', 'trctname', 'c000', 'ca01']]\n",
    "va_dat.iloc[700:703]"
   ]
  },
  {
   "cell_type": "markdown",
   "metadata": {},
   "source": [
    "### Rename, groupby, operations, sort "
   ]
  },
  {
   "cell_type": "code",
   "execution_count": null,
   "metadata": {},
   "outputs": [],
   "source": [
    "dat_renamed = dat.rename(columns = {'c000': 'total_jobs'})"
   ]
  },
  {
   "cell_type": "code",
   "execution_count": null,
   "metadata": {},
   "outputs": [],
   "source": [
    "#Groupby two columns and return the mean of the remaining column.\n",
    "avg_jobs_by_cty = va_dat.groupby(['ctyname', 'year']).mean()\n",
    "avg_jobs_by_cty.iloc[0:24]"
   ]
  },
  {
   "cell_type": "code",
   "execution_count": null,
   "metadata": {
    "scrolled": true
   },
   "outputs": [],
   "source": [
    "# Groupby one column and return the mean of only particular column in the group.\n",
    "avg_total_jobs_by_cty = va_dat.groupby(['ctyname', 'year'])['c000'].mean().reset_index()\n",
    "avg_total_jobs_by_cty"
   ]
  },
  {
   "cell_type": "code",
   "execution_count": null,
   "metadata": {
    "scrolled": true
   },
   "outputs": [],
   "source": [
    "#sort values \n",
    "sorted_cty_jobs = avg_total_jobs_by_cty.sort_values(by = ['c000'], ascending = False)\n",
    "sorted_cty_jobs.iloc[0:15]"
   ]
  },
  {
   "cell_type": "markdown",
   "metadata": {},
   "source": [
    "### Write out "
   ]
  },
  {
   "cell_type": "code",
   "execution_count": null,
   "metadata": {},
   "outputs": [],
   "source": [
    "sorted_cty_jobs.to_csv('subset_df.csv', index = False)"
   ]
  }
 ],
 "metadata": {
  "kernelspec": {
   "display_name": "Python 3",
   "language": "python",
   "name": "python3"
  },
  "language_info": {
   "codemirror_mode": {
    "name": "ipython",
    "version": 3
   },
   "file_extension": ".py",
   "mimetype": "text/x-python",
   "name": "python",
   "nbconvert_exporter": "python",
   "pygments_lexer": "ipython3",
   "version": "3.7.3"
  }
 },
 "nbformat": 4,
 "nbformat_minor": 2
}
